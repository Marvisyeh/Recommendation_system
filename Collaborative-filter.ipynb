{
 "cells": [
  {
   "cell_type": "markdown",
   "metadata": {},
   "source": [
    "### Collaborative Filtering\n",
    "```\n",
    "user-based\n",
    "item-based\n",
    "```"
   ]
  },
  {
   "cell_type": "markdown",
   "metadata": {},
   "source": [
    "#### Step1: 特徵處理"
   ]
  },
  {
   "cell_type": "code",
   "execution_count": 2,
   "metadata": {},
   "outputs": [],
   "source": [
    "import numpy as np\n",
    "import pandas as pd"
   ]
  },
  {
   "cell_type": "code",
   "execution_count": 3,
   "metadata": {},
   "outputs": [
    {
     "data": {
      "text/plain": [
       "(   userId  movieId  rating   timestamp\n",
       " 0       1       31     2.5  1260759144\n",
       " 1       1     1029     3.0  1260759179\n",
       " 2       1     1061     3.0  1260759182\n",
       " 3       1     1129     2.0  1260759185\n",
       " 4       1     1172     4.0  1260759205,\n",
       " (100004, 4))"
      ]
     },
     "execution_count": 3,
     "metadata": {},
     "output_type": "execute_result"
    }
   ],
   "source": [
    "ratings_df = pd.read_csv('./ratings_small.csv')\n",
    "ratings_df.head(),ratings_df.shape"
   ]
  },
  {
   "cell_type": "code",
   "execution_count": 4,
   "metadata": {},
   "outputs": [
    {
     "data": {
      "text/plain": [
       "userId         671\n",
       "movieId       9066\n",
       "rating          10\n",
       "timestamp    78141\n",
       "dtype: int64"
      ]
     },
     "execution_count": 4,
     "metadata": {},
     "output_type": "execute_result"
    }
   ],
   "source": [
    "ratings_df.nunique()"
   ]
  },
  {
   "cell_type": "code",
   "execution_count": 5,
   "metadata": {},
   "outputs": [
    {
     "data": {
      "text/html": [
       "<div>\n",
       "<style scoped>\n",
       "    .dataframe tbody tr th:only-of-type {\n",
       "        vertical-align: middle;\n",
       "    }\n",
       "\n",
       "    .dataframe tbody tr th {\n",
       "        vertical-align: top;\n",
       "    }\n",
       "\n",
       "    .dataframe thead th {\n",
       "        text-align: right;\n",
       "    }\n",
       "</style>\n",
       "<table border=\"1\" class=\"dataframe\">\n",
       "  <thead>\n",
       "    <tr style=\"text-align: right;\">\n",
       "      <th></th>\n",
       "      <th>userId</th>\n",
       "      <th>movieId</th>\n",
       "      <th>rating</th>\n",
       "      <th>timestamp</th>\n",
       "    </tr>\n",
       "  </thead>\n",
       "  <tbody>\n",
       "    <tr>\n",
       "      <th>52635</th>\n",
       "      <td>383</td>\n",
       "      <td>21</td>\n",
       "      <td>3.0</td>\n",
       "      <td>789652009</td>\n",
       "    </tr>\n",
       "    <tr>\n",
       "      <th>52641</th>\n",
       "      <td>383</td>\n",
       "      <td>47</td>\n",
       "      <td>5.0</td>\n",
       "      <td>789652009</td>\n",
       "    </tr>\n",
       "    <tr>\n",
       "      <th>52684</th>\n",
       "      <td>383</td>\n",
       "      <td>1079</td>\n",
       "      <td>3.0</td>\n",
       "      <td>789652009</td>\n",
       "    </tr>\n",
       "    <tr>\n",
       "      <th>56907</th>\n",
       "      <td>409</td>\n",
       "      <td>21</td>\n",
       "      <td>5.0</td>\n",
       "      <td>828212412</td>\n",
       "    </tr>\n",
       "    <tr>\n",
       "      <th>56909</th>\n",
       "      <td>409</td>\n",
       "      <td>25</td>\n",
       "      <td>4.0</td>\n",
       "      <td>828212412</td>\n",
       "    </tr>\n",
       "  </tbody>\n",
       "</table>\n",
       "</div>"
      ],
      "text/plain": [
       "       userId  movieId  rating  timestamp\n",
       "52635     383       21     3.0  789652009\n",
       "52641     383       47     5.0  789652009\n",
       "52684     383     1079     3.0  789652009\n",
       "56907     409       21     5.0  828212412\n",
       "56909     409       25     4.0  828212412"
      ]
     },
     "execution_count": 5,
     "metadata": {},
     "output_type": "execute_result"
    }
   ],
   "source": [
    "#依時間排序\n",
    "ratings_df = ratings_df.sort_values('timestamp')\n",
    "ratings_df.head()"
   ]
  },
  {
   "cell_type": "code",
   "execution_count": 6,
   "metadata": {},
   "outputs": [],
   "source": [
    "#將userId,movieId分別對應到 0-N(num of users) /M(num of movies) 的整數\n",
    "from sklearn.preprocessing import LabelEncoder\n",
    "user_encoder = LabelEncoder()\n",
    "movie_encoder = LabelEncoder()\n",
    "\n",
    "user_ids = user_encoder.fit_transform(ratings_df.userId)\n",
    "movie_ids = movie_encoder.fit_transform(ratings_df.movieId)"
   ]
  },
  {
   "cell_type": "code",
   "execution_count": 7,
   "metadata": {},
   "outputs": [
    {
     "data": {
      "text/plain": [
       "((80003,), (80003,), (80003,), (20001,), (20001,), (20001,))"
      ]
     },
     "execution_count": 7,
     "metadata": {},
     "output_type": "execute_result"
    }
   ],
   "source": [
    "#將資料分為訓練集和測試集(0.8/0.2)\n",
    "num_train = int(len(user_ids)*0.8)\n",
    "\n",
    "train_user_ids = user_ids[:num_train]\n",
    "train_moviw_ids = movie_ids[:num_train]\n",
    "train_ratings = ratings_df.rating.values[:num_train]\n",
    "val_user_ids = user_ids[num_train:]\n",
    "val_movie_ids = movie_ids[num_train:]\n",
    "val_ratings = ratings_df.rating.values[num_train:]\n",
    "\n",
    "train_user_ids.shape,train_moviw_ids.shape,train_ratings.shape,val_user_ids.shape,val_movie_ids.shape,val_ratings.shape"
   ]
  },
  {
   "cell_type": "code",
   "execution_count": 8,
   "metadata": {},
   "outputs": [
    {
     "data": {
      "text/plain": [
       "array([[0., 0., 0., ..., 0., 0., 0.],\n",
       "       [0., 0., 0., ..., 0., 0., 0.],\n",
       "       [0., 0., 0., ..., 0., 0., 0.],\n",
       "       ...,\n",
       "       [0., 0., 0., ..., 0., 0., 0.],\n",
       "       [4., 0., 0., ..., 0., 0., 0.],\n",
       "       [5., 0., 0., ..., 0., 0., 0.]])"
      ]
     },
     "execution_count": 8,
     "metadata": {},
     "output_type": "execute_result"
    }
   ],
   "source": [
    "#初始化user-movie matrix\n",
    "num_users = user_ids.max()+1\n",
    "num_movies = movie_ids.max()+1\n",
    "user2movie = np.zeros([num_users, num_movies])\n",
    "user2movie[train_user_ids,train_moviw_ids] = train_ratings\n",
    "user2movie"
   ]
  },
  {
   "cell_type": "markdown",
   "metadata": {},
   "source": [
    "#### Step2: 計算公式"
   ]
  },
  {
   "cell_type": "markdown",
   "metadata": {},
   "source": [
    "$$\n",
    "r = {\\sum ^n _{i=1}(X_i- \\bar X)(Y_i- \\bar Y) \\over \\sqrt{\\sum^n_{i=1}(X_i- \\bar X)^2} \\sqrt{\\sum^n_{i=1}(Y_i- \\bar Y)^2}}\n",
    "$$\n",
    "https://zh.wikipedia.org/wiki/%E7%9A%AE%E5%B0%94%E9%80%8A%E7%A7%AF%E7%9F%A9%E7%9B%B8%E5%85%B3%E7%B3%BB%E6%95%B0"
   ]
  },
  {
   "cell_type": "code",
   "execution_count": 9,
   "metadata": {},
   "outputs": [],
   "source": [
    "# 皮爾森相似度\n",
    "def pearson_correlation(x,y): #(x,y兩個使用者對不同電影的偏好向量)\n",
    "    \n",
    "    #只考慮兩個使用者共同評分過的電影\n",
    "    filt = (x!=0) * (y!=0) #只考慮兩個都是True的狀況\n",
    "\n",
    "    #計算平均，不考率為0的數\n",
    "    x_mean = x.sum() / x[x!=0].shape\n",
    "    y_mean = y.sum() / y[y!=0].shape\n",
    "\n",
    "    x = x[filt]\n",
    "    y = y[filt]\n",
    "\n",
    "    corr = np.sum((x - x_mean) * (y-y_mean)) / (np.sum((x-x_mean) ** 2) ) ** 0.5\n",
    "    return corr"
   ]
  },
  {
   "cell_type": "code",
   "execution_count": 11,
   "metadata": {},
   "outputs": [
    {
     "name": "stderr",
     "output_type": "stream",
     "text": [
      "/var/folders/ng/5b7r4nd52wl4987p44qbwlfw0000gn/T/ipykernel_52199/1798362575.py:14: RuntimeWarning: invalid value encountered in double_scalars\n",
      "  corr = np.sum((x - x_mean) * (y-y_mean)) / (np.sum((x-x_mean) ** 2) ) ** 0.5\n",
      "/var/folders/ng/5b7r4nd52wl4987p44qbwlfw0000gn/T/ipykernel_52199/1798362575.py:9: RuntimeWarning: invalid value encountered in true_divide\n",
      "  y_mean = y.sum() / y[y!=0].shape\n",
      "/var/folders/ng/5b7r4nd52wl4987p44qbwlfw0000gn/T/ipykernel_52199/1798362575.py:8: RuntimeWarning: invalid value encountered in true_divide\n",
      "  x_mean = x.sum() / x[x!=0].shape\n"
     ]
    },
    {
     "data": {
      "text/plain": [
       "array([[ 3.86652299,         nan,         nan, ...,  0.64864865,\n",
       "                nan, -0.9173913 ],\n",
       "       [        nan,  7.80940728, -0.03779505, ..., -0.70626998,\n",
       "        -1.90946134,  1.24000629],\n",
       "       [        nan, -0.03779505,  5.24497892, ...,  1.67588477,\n",
       "        -0.19681608,  0.83829478],\n",
       "       ...,\n",
       "       [ 0.64864865, -0.70626998,  1.67588477, ...,  5.51655984,\n",
       "         1.19354839,  0.80949707],\n",
       "       [        nan, -1.90946134, -0.19681608, ...,  1.19354839,\n",
       "         6.69617127,  0.55049151],\n",
       "       [-0.9173913 ,  1.24000629,  0.83829478, ...,  0.80949707,\n",
       "         0.55049151,  8.15262028]])"
      ]
     },
     "execution_count": 11,
     "metadata": {},
     "output_type": "execute_result"
    }
   ],
   "source": [
    "#計算相似度\n",
    "def compute_similarity_matrix(user2movie):\n",
    "    #記錄每個使用者的相似度\n",
    "    similarity_matrix = np.zeros([num_users,num_users])\n",
    "\n",
    "    for i in range(len(user2movie)):\n",
    "        for j in range(i, len(user2movie)):\n",
    "            #皮爾森\n",
    "            corr = pearson_correlation(user2movie[i],user2movie[j])\n",
    "\n",
    "            similarity_matrix[i,j] = corr\n",
    "            similarity_matrix[j,i] = corr\n",
    "    return similarity_matrix"
   ]
  },
  {
   "cell_type": "code",
   "execution_count": 12,
   "metadata": {},
   "outputs": [
    {
     "name": "stderr",
     "output_type": "stream",
     "text": [
      "/var/folders/ng/5b7r4nd52wl4987p44qbwlfw0000gn/T/ipykernel_52199/1798362575.py:14: RuntimeWarning: invalid value encountered in double_scalars\n",
      "  corr = np.sum((x - x_mean) * (y-y_mean)) / (np.sum((x-x_mean) ** 2) ) ** 0.5\n",
      "/var/folders/ng/5b7r4nd52wl4987p44qbwlfw0000gn/T/ipykernel_52199/1798362575.py:9: RuntimeWarning: invalid value encountered in true_divide\n",
      "  y_mean = y.sum() / y[y!=0].shape\n",
      "/var/folders/ng/5b7r4nd52wl4987p44qbwlfw0000gn/T/ipykernel_52199/1798362575.py:8: RuntimeWarning: invalid value encountered in true_divide\n",
      "  x_mean = x.sum() / x[x!=0].shape\n"
     ]
    },
    {
     "data": {
      "text/plain": [
       "array([[ 3.86652299,         nan,         nan, ...,  0.64864865,\n",
       "                nan, -0.9173913 ],\n",
       "       [        nan,  7.80940728, -0.03779505, ..., -0.70626998,\n",
       "        -1.90946134,  1.24000629],\n",
       "       [        nan, -0.03779505,  5.24497892, ...,  1.67588477,\n",
       "        -0.19681608,  0.83829478],\n",
       "       [ 0.0718748 , -0.18334823,  0.54025835, ...,  1.0069077 ,\n",
       "         0.47249985,  1.00727467],\n",
       "       [-0.09      ,  0.22200195, -0.26790482, ...,  0.91732772,\n",
       "        -1.52170388, -0.66359591]])"
      ]
     },
     "execution_count": 12,
     "metadata": {},
     "output_type": "execute_result"
    }
   ],
   "source": [
    "similarity_matrix = compute_similarity_matrix(user2movie)\n",
    "similarity_matrix[:5]"
   ]
  },
  {
   "cell_type": "code",
   "execution_count": 13,
   "metadata": {},
   "outputs": [
    {
     "data": {
      "text/plain": [
       "array([[ 0.        ,  0.        ,  0.        , ...,  0.64864865,\n",
       "         0.        , -0.9173913 ],\n",
       "       [ 0.        ,  0.        , -0.03779505, ..., -0.70626998,\n",
       "        -1.90946134,  1.24000629],\n",
       "       [ 0.        , -0.03779505,  0.        , ...,  1.67588477,\n",
       "        -0.19681608,  0.83829478],\n",
       "       [ 0.0718748 , -0.18334823,  0.54025835, ...,  1.0069077 ,\n",
       "         0.47249985,  1.00727467],\n",
       "       [-0.09      ,  0.22200195, -0.26790482, ...,  0.91732772,\n",
       "        -1.52170388, -0.66359591]])"
      ]
     },
     "execution_count": 13,
     "metadata": {},
     "output_type": "execute_result"
    }
   ],
   "source": [
    "#將跟自己的相似度（對角線）、nan值 設為0\n",
    "similarity_matrix[np.arange(num_users), np.arange(num_users)] = 0\n",
    "similarity_matrix[np.isnan(similarity_matrix)] = 0\n",
    "similarity_matrix[:5]"
   ]
  },
  {
   "cell_type": "code",
   "execution_count": 16,
   "metadata": {},
   "outputs": [
    {
     "name": "stderr",
     "output_type": "stream",
     "text": [
      "/var/folders/ng/5b7r4nd52wl4987p44qbwlfw0000gn/T/ipykernel_52199/2518388212.py:7: RuntimeWarning: invalid value encountered in true_divide\n",
      "  mean_ratings = np.sum(user2movie,axis=1)/(user2movie != 0).sum(axis=1)\n",
      "/var/folders/ng/5b7r4nd52wl4987p44qbwlfw0000gn/T/ipykernel_52199/2518388212.py:19: RuntimeWarning: invalid value encountered in true_divide\n",
      "  weighted_sum = np.matmul(similarity_matrix,user2movie_diff) / np.expand_dims(sim_sum,1)\n"
     ]
    },
    {
     "data": {
      "text/plain": [
       "array([[2.60070326, 2.49485163, 2.57093654, ..., 2.55      , 2.55      ,\n",
       "        2.55      ],\n",
       "       [3.53444596, 3.45781463, 3.46025568, ..., 3.48684211, 3.48684211,\n",
       "        3.48684211],\n",
       "       [3.60123031, 3.5589303 , 3.53456402, ..., 3.56862745, 3.56862745,\n",
       "        3.56862745],\n",
       "       ...,\n",
       "       [3.98011337, 3.85742607, 3.80717723, ..., 3.86637931, 3.86637931,\n",
       "        3.86637931],\n",
       "       [3.93009418, 3.70764736, 3.69716432, ..., 3.75555556, 3.75555556,\n",
       "        3.75555556],\n",
       "       [3.83231515, 3.68569043, 3.63715838, ..., 3.69565217, 3.69565217,\n",
       "        3.69565217]])"
      ]
     },
     "execution_count": 16,
     "metadata": {},
     "output_type": "execute_result"
    }
   ],
   "source": [
    "#user-base協同過濾\n",
    "def compute_ucf(user2movie, similarity_matrix):\n",
    "    '''\n",
    "    compute prediction scores for all movies\n",
    "    '''\n",
    "    #yk\n",
    "    mean_ratings = np.sum(user2movie,axis=1)/(user2movie != 0).sum(axis=1)\n",
    "    \n",
    "    #ykj - yk 每個電影減掉該使用者的平均評分（計算喜好程度)\n",
    "    #user2movie=>(num_users, num_movies), mean_ratings=>(num_users,)-->(num_users,1)維度轉換\n",
    "    user2movie_diff = user2movie - np.expand_dims(mean_ratings,axis=1)\n",
    "\n",
    "    #每個使用者的相似度相加\n",
    "    sim_sum = np.sum(np.abs(similarity_matrix),axis=1)\n",
    "    #把原本是0的值 設為零\n",
    "    user2movie_diff[np.where(user2movie == 0)] = 0\n",
    "    \n",
    "    #compute weighted sum of rating diff (num_users, num_movies)\n",
    "    weighted_sum = np.matmul(similarity_matrix,user2movie_diff) / np.expand_dims(sim_sum,1)\n",
    "    #得到預測分數\n",
    "    scores = weighted_sum + np.expand_dims(mean_ratings,1)\n",
    "    return scores\n",
    "predictions = compute_ucf(user2movie, similarity_matrix)\n",
    "predictions[:10]"
   ]
  },
  {
   "cell_type": "code",
   "execution_count": 17,
   "metadata": {},
   "outputs": [
    {
     "data": {
      "text/plain": [
       "(671, 9066)"
      ]
     },
     "execution_count": 17,
     "metadata": {},
     "output_type": "execute_result"
    }
   ],
   "source": [
    "predictions.shape"
   ]
  },
  {
   "cell_type": "markdown",
   "metadata": {},
   "source": [
    "#### 計算ＮＤＣＧ\n",
    "- NDCG 能夠較為公平的比較不同長度推薦序列的好壞\n",
    "\n",
    "DCG (Dsicounted Cumulative Gain)**\n",
    "    - 衡量推薦出的物品順序符合使用者喜好的程度\n",
    "    - 考慮物品相關分數（使用者評分）以及推薦結果的順序\n",
    "$$DCG_p=\\sum^p_{i=1}{2相關分數-1 \\over \\log_2(i+1)}$$\n",
    "    \n",
    "NDCG\n",
    "    - 衡量目前推薦順序和最佳的推薦順序的差異\n",
    "$$NDGC_p={DCG_p \\over 最佳DCG_p}$$"
   ]
  },
  {
   "cell_type": "code",
   "execution_count": 15,
   "metadata": {},
   "outputs": [],
   "source": [
    "def dcg_at_k(r, k):\n",
    "    '''\n",
    "    Compute DCG\n",
    "    args:\n",
    "        r: np.array, to be evaluated\n",
    "        k: int, number of entries to be considered\n",
    "    \n",
    "    returns:\n",
    "        dcg: float, computed dcg\n",
    "        \n",
    "    '''\n",
    "    r = r[:k]\n",
    "    dcg = np.sum(r / np.log2(np.arange(2, len(r) + 2)))\n",
    "    return dcg\n",
    "\n",
    "def ndcg_at_k(r, k, method=0):\n",
    "    '''\n",
    "    Compute NDCG\n",
    "    args:\n",
    "        r: np.array, to be evaluated\n",
    "        k: int, number of entries to be considered\n",
    "    \n",
    "    returns:\n",
    "        dcg: float, computed ndcg\n",
    "        \n",
    "    '''\n",
    "    dcg_max = dcg_at_k(sorted(r, reverse=True), k)\n",
    "\n",
    "    return dcg_at_k(r, k) / dcg_max\n",
    "    \n",
    "# compute average ndcg for all users\n",
    "def evaluate_prediction(predictions):\n",
    "    '''\n",
    "    Return the average ndcg for each users\n",
    "    args:\n",
    "        predictions: np.array user-item predictions\n",
    "    returns:\n",
    "        ndcg: float, computed NDCG\n",
    "    '''\n",
    "    ndcgs = []\n",
    "    # iterate\n",
    "    for target_user in np.unique(val_user_ids):\n",
    "        # get movie ids and ratings associated with the target user.\n",
    "        target_val_movie_ids = val_movie_ids[val_user_ids == target_user] \n",
    "        target_val_ratings = val_ratings[val_user_ids == target_user] \n",
    "        \n",
    "        # compute ndcg for this user\n",
    "        ndcg = ndcg_at_k(target_val_ratings[np.argsort(-predictions[target_user][target_val_movie_ids])], k=30)\n",
    "        ndcgs.append(ndcg)\n",
    "    ndcg = np.mean(ndcgs)\n",
    "    return ndcg"
   ]
  },
  {
   "cell_type": "code",
   "execution_count": 18,
   "metadata": {},
   "outputs": [
    {
     "data": {
      "text/plain": [
       "0.8332450543581469"
      ]
     },
     "execution_count": 18,
     "metadata": {},
     "output_type": "execute_result"
    }
   ],
   "source": [
    "evaluate_prediction(predictions)"
   ]
  },
  {
   "cell_type": "markdown",
   "metadata": {},
   "source": [
    "#### item-based 基於物品協同過濾"
   ]
  },
  {
   "cell_type": "code",
   "execution_count": 20,
   "metadata": {},
   "outputs": [
    {
     "name": "stderr",
     "output_type": "stream",
     "text": [
      "/var/folders/ng/5b7r4nd52wl4987p44qbwlfw0000gn/T/ipykernel_52199/1061981605.py:3: RuntimeWarning: invalid value encountered in true_divide\n",
      "  x_mean = user2movie.sum(axis=0) / (user2movie!=0).sum(axis=0)\n",
      "/var/folders/ng/5b7r4nd52wl4987p44qbwlfw0000gn/T/ipykernel_52199/1061981605.py:9: RuntimeWarning: invalid value encountered in true_divide\n",
      "  similarity_matrix = np.matmul(ratings_diff.T, ratings_diff) / (np.matmul(ratings_diff.T ** 2, (ratings_diff != 0 )) * np.matmul(ratings_diff.T ** 2, (ratings_diff != 0)).T) ** 0.5\n"
     ]
    },
    {
     "data": {
      "text/plain": [
       "array([[ 1.        ,  0.32949699,  0.14883085, ...,         nan,\n",
       "                nan,         nan],\n",
       "       [ 0.32949699,  1.        ,  0.11771157, ...,         nan,\n",
       "                nan,         nan],\n",
       "       [ 0.14883085,  0.11771157,  1.        , ...,         nan,\n",
       "                nan,         nan],\n",
       "       ...,\n",
       "       [ 0.75689798,  0.79614979,  0.71287669, ...,         nan,\n",
       "                nan,         nan],\n",
       "       [-0.21912884,  0.5874723 ,  0.34578862, ...,         nan,\n",
       "                nan,         nan],\n",
       "       [ 0.02433877,  0.43192313, -0.08695837, ...,         nan,\n",
       "                nan,         nan]])"
      ]
     },
     "execution_count": 20,
     "metadata": {},
     "output_type": "execute_result"
    }
   ],
   "source": [
    "def compute_item_similarity_matrix(user2movie):\n",
    "    #用矩陣運算計算相似度\n",
    "    x_mean = user2movie.sum(axis=0) / (user2movie!=0).sum(axis=0)\n",
    "    filt = (user2movie == 0)\n",
    "\n",
    "    ratings_diff = user2movie-np.expand_dims(x_mean, axis = 0)\n",
    "    ratings_diff[filt] = 0\n",
    "\n",
    "    similarity_matrix = np.matmul(ratings_diff.T, ratings_diff) / (np.matmul(ratings_diff.T ** 2, (ratings_diff != 0 )) * np.matmul(ratings_diff.T ** 2, (ratings_diff != 0)).T) ** 0.5\n",
    "\n",
    "    return similarity_matrix\n",
    "similarity_matrix = compute_item_similarity_matrix(user2movie)\n",
    "similarity_matrix[:10]"
   ]
  },
  {
   "cell_type": "code",
   "execution_count": 21,
   "metadata": {},
   "outputs": [
    {
     "data": {
      "text/plain": [
       "array([[0.        , 0.32949699, 0.14883085, ..., 0.        , 0.        ,\n",
       "        0.        ],\n",
       "       [0.32949699, 0.        , 0.11771157, ..., 0.        , 0.        ,\n",
       "        0.        ],\n",
       "       [0.14883085, 0.11771157, 0.        , ..., 0.        , 0.        ,\n",
       "        0.        ],\n",
       "       ...,\n",
       "       [0.        , 0.        , 0.        , ..., 0.        , 0.        ,\n",
       "        0.        ],\n",
       "       [0.        , 0.        , 0.        , ..., 0.        , 0.        ,\n",
       "        0.        ],\n",
       "       [0.        , 0.        , 0.        , ..., 0.        , 0.        ,\n",
       "        0.        ]])"
      ]
     },
     "execution_count": 21,
     "metadata": {},
     "output_type": "execute_result"
    }
   ],
   "source": [
    "similarity_matrix[np.arange(num_movies), np.arange(num_movies)] = 0\n",
    "similarity_matrix[np.isnan(similarity_matrix)] = 0\n",
    "similarity_matrix"
   ]
  },
  {
   "cell_type": "code",
   "execution_count": 22,
   "metadata": {},
   "outputs": [
    {
     "name": "stderr",
     "output_type": "stream",
     "text": [
      "/var/folders/ng/5b7r4nd52wl4987p44qbwlfw0000gn/T/ipykernel_52199/4108485018.py:11: RuntimeWarning: invalid value encountered in true_divide\n",
      "  mean_ratings = np.sum(user2movie, axis=0) / (user2movie != 0 ).sum(axis=0)\n",
      "/var/folders/ng/5b7r4nd52wl4987p44qbwlfw0000gn/T/ipykernel_52199/4108485018.py:23: RuntimeWarning: invalid value encountered in true_divide\n",
      "  weighted_sum = np.matmul(user2movie_diff, similarity_matrix) / np.expand_dims(sim_sum, axis=0)\n"
     ]
    },
    {
     "data": {
      "text/plain": [
       "array([[3.91995938, 3.36217492, 3.19289318, ...,        nan,        nan,\n",
       "               nan],\n",
       "       [3.92128976, 3.3640285 , 3.19388683, ...,        nan,        nan,\n",
       "               nan],\n",
       "       [3.91963665, 3.36367295, 3.19216674, ...,        nan,        nan,\n",
       "               nan],\n",
       "       ...,\n",
       "       [3.92075554, 3.36605949, 3.1937442 , ...,        nan,        nan,\n",
       "               nan],\n",
       "       [3.92067407, 3.36313627, 3.1926433 , ...,        nan,        nan,\n",
       "               nan],\n",
       "       [3.92048034, 3.36408442, 3.19267732, ...,        nan,        nan,\n",
       "               nan]])"
      ]
     },
     "execution_count": 22,
     "metadata": {},
     "output_type": "execute_result"
    }
   ],
   "source": [
    "#item-based\n",
    "def compute_icf(user2movie, similarity_matrix):\n",
    "    '''\n",
    "    Compute prediction scores for all movies with item-based CF.\n",
    "    args:\n",
    "        user2movie: np.array, user-movie rating matrix\n",
    "    returns:\n",
    "        scores: np.array, predicted scores of each video for the target user\n",
    "    '''\n",
    "\n",
    "    # compute mean rating yk, ignoring zero entries, shape:(num_movies)\n",
    "    mean_ratings = np.sum(user2movie, axis=0) / (user2movie != 0 ).sum(axis=0)\n",
    "    \n",
    "    # compute ykj - yk, shape:(num_users, num_movies)\n",
    "    user2movie_diff = user2movie - np.expand_dims(mean_ratings, axis=0)\n",
    "    \n",
    "    # compute sum of similarities Σsimik, (num_movies,)\n",
    "    sim_sum = np.sum(np.abs(similarity_matrix), axis=1)\n",
    "    \n",
    "    # don't sum the unknown entries, set them to 0\n",
    "    user2movie_diff[np.where(user2movie == 0) ] = 0\n",
    "    \n",
    "    # compute weighted sum of rating diff (num_users, num_movies)\n",
    "    weighted_sum = np.matmul(user2movie_diff, similarity_matrix) / np.expand_dims(sim_sum, axis=0)\n",
    "\n",
    "    # add weighted sum to mean ratings\n",
    "    scores =  weighted_sum + np.expand_dims(mean_ratings, 0)\n",
    "    \n",
    "    return  scores\n",
    "\n",
    "predictions = compute_icf(user2movie, similarity_matrix) \n",
    "predictions[:10]"
   ]
  },
  {
   "cell_type": "code",
   "execution_count": 23,
   "metadata": {},
   "outputs": [
    {
     "data": {
      "text/plain": [
       "0.8721779505007486"
      ]
     },
     "execution_count": 23,
     "metadata": {},
     "output_type": "execute_result"
    }
   ],
   "source": [
    "evaluate_prediction(predictions)"
   ]
  }
 ],
 "metadata": {
  "interpreter": {
   "hash": "00c1620f6583df79aceb1a1127ea29d32f2ef9fcc9258c79c53e5a287ee645ec"
  },
  "kernelspec": {
   "display_name": "Python 3.8.8 64-bit ('venv': venv)",
   "language": "python",
   "name": "python3"
  },
  "language_info": {
   "codemirror_mode": {
    "name": "ipython",
    "version": 3
   },
   "file_extension": ".py",
   "mimetype": "text/x-python",
   "name": "python",
   "nbconvert_exporter": "python",
   "pygments_lexer": "ipython3",
   "version": "3.8.8"
  },
  "orig_nbformat": 4
 },
 "nbformat": 4,
 "nbformat_minor": 2
}
